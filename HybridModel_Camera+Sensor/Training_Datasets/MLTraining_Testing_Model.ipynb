{
 "cells": [
  {
   "cell_type": "code",
   "execution_count": 88,
   "id": "7468c2be",
   "metadata": {},
   "outputs": [
    {
     "data": {
      "text/plain": [
       "Index(['person', '152', '134', '178', '196', '153', '166', '209', '195', '155',\n",
       "       '204', '227', '186', '172', '246', '235', '179', '206', '274', '221',\n",
       "       '191', '263', '295', '196.1', '216', '310', '301', '207', '309', '374',\n",
       "       '315', '205', '362', '384', '319', '309.1', '510', '424', '293',\n",
       "       '319.1', '551', '429', '355', '515', '748', '612', '346', '460', '798',\n",
       "       '639', '543', '712', '789', '740', '600', '856', '1000', '774', '637',\n",
       "       '700', '582', '575', '599', '687', '512', '484', '502', '646', '477',\n",
       "       '465', '500', '574', '422', '418', '464', '460.1', '357', '384.1',\n",
       "       '426', '367', '308', '349', '371', '289', '280', '319.2'],\n",
       "      dtype='object')"
      ]
     },
     "execution_count": 88,
     "metadata": {},
     "output_type": "execute_result"
    }
   ],
   "source": [
    "# Changing & loading the df_person column names\n",
    "df_person = pd.read_csv(\"PersonSitting_10Ksamples.csv\")\n",
    "\n",
    "df_person.columns"
   ]
  },
  {
   "cell_type": "code",
   "execution_count": 89,
   "id": "d675c334",
   "metadata": {},
   "outputs": [
    {
     "data": {
      "text/plain": [
       "Index(['Labels', '0', '1', '2', '3', '4', '5', '6', '7', '8', '9', '10', '11',\n",
       "       '12', '13', '14', '15', '16', '17', '18', '19', '20', '21', '22', '23',\n",
       "       '24', '25', '26', '27', '28', '29', '30', '31', '32', '33', '34', '35',\n",
       "       '36', '37', '38', '39', '40', '41', '42', '43', '44', '45', '46', '47',\n",
       "       '48', '49', '50', '51', '52', '53', '54', '55', '56', '57', '58', '59',\n",
       "       '60', '61', '62', '63', '64', '65', '66', '67', '68', '69', '70', '71',\n",
       "       '72', '73', '74', '75', '76', '77', '78', '79', '80', '81', '82', '83',\n",
       "       '84'],\n",
       "      dtype='object')"
      ]
     },
     "execution_count": 89,
     "metadata": {},
     "output_type": "execute_result"
    }
   ],
   "source": [
    "# Specify the column names for df_person\n",
    "column_names_person = ['Labels'] + [str(i) for i in range(df_person.shape[1] - 1)]\n",
    "df_person.columns = column_names_person\n",
    "df_person.columns"
   ]
  },
  {
   "cell_type": "code",
   "execution_count": 107,
   "id": "af6ef26c",
   "metadata": {},
   "outputs": [
    {
     "name": "stdout",
     "output_type": "stream",
     "text": [
      "11\n"
     ]
    }
   ],
   "source": [
    "non_person_count = df_person['Labels'].value_counts()['non_person']\n",
    "print(non_person_count)\n"
   ]
  },
  {
   "cell_type": "code",
   "execution_count": 92,
   "id": "5273103b",
   "metadata": {},
   "outputs": [
    {
     "data": {
      "text/html": [
       "<div>\n",
       "<style scoped>\n",
       "    .dataframe tbody tr th:only-of-type {\n",
       "        vertical-align: middle;\n",
       "    }\n",
       "\n",
       "    .dataframe tbody tr th {\n",
       "        vertical-align: top;\n",
       "    }\n",
       "\n",
       "    .dataframe thead th {\n",
       "        text-align: right;\n",
       "    }\n",
       "</style>\n",
       "<table border=\"1\" class=\"dataframe\">\n",
       "  <thead>\n",
       "    <tr style=\"text-align: right;\">\n",
       "      <th></th>\n",
       "      <th>Labels</th>\n",
       "      <th>0</th>\n",
       "      <th>1</th>\n",
       "      <th>2</th>\n",
       "      <th>3</th>\n",
       "      <th>4</th>\n",
       "      <th>5</th>\n",
       "      <th>6</th>\n",
       "      <th>7</th>\n",
       "      <th>8</th>\n",
       "      <th>...</th>\n",
       "      <th>75</th>\n",
       "      <th>76</th>\n",
       "      <th>77</th>\n",
       "      <th>78</th>\n",
       "      <th>79</th>\n",
       "      <th>80</th>\n",
       "      <th>81</th>\n",
       "      <th>82</th>\n",
       "      <th>83</th>\n",
       "      <th>84</th>\n",
       "    </tr>\n",
       "  </thead>\n",
       "  <tbody>\n",
       "    <tr>\n",
       "      <th>0</th>\n",
       "      <td>person</td>\n",
       "      <td>154</td>\n",
       "      <td>125</td>\n",
       "      <td>169</td>\n",
       "      <td>188</td>\n",
       "      <td>143</td>\n",
       "      <td>156</td>\n",
       "      <td>189</td>\n",
       "      <td>196</td>\n",
       "      <td>143</td>\n",
       "      <td>...</td>\n",
       "      <td>325</td>\n",
       "      <td>386</td>\n",
       "      <td>407</td>\n",
       "      <td>364</td>\n",
       "      <td>286</td>\n",
       "      <td>347</td>\n",
       "      <td>353</td>\n",
       "      <td>278</td>\n",
       "      <td>266</td>\n",
       "      <td>313</td>\n",
       "    </tr>\n",
       "    <tr>\n",
       "      <th>1</th>\n",
       "      <td>person</td>\n",
       "      <td>163</td>\n",
       "      <td>118</td>\n",
       "      <td>167</td>\n",
       "      <td>187</td>\n",
       "      <td>148</td>\n",
       "      <td>156</td>\n",
       "      <td>187</td>\n",
       "      <td>201</td>\n",
       "      <td>139</td>\n",
       "      <td>...</td>\n",
       "      <td>304</td>\n",
       "      <td>376</td>\n",
       "      <td>385</td>\n",
       "      <td>353</td>\n",
       "      <td>265</td>\n",
       "      <td>336</td>\n",
       "      <td>331</td>\n",
       "      <td>270</td>\n",
       "      <td>256</td>\n",
       "      <td>307</td>\n",
       "    </tr>\n",
       "    <tr>\n",
       "      <th>2</th>\n",
       "      <td>person</td>\n",
       "      <td>140</td>\n",
       "      <td>134</td>\n",
       "      <td>196</td>\n",
       "      <td>173</td>\n",
       "      <td>125</td>\n",
       "      <td>186</td>\n",
       "      <td>192</td>\n",
       "      <td>170</td>\n",
       "      <td>134</td>\n",
       "      <td>...</td>\n",
       "      <td>326</td>\n",
       "      <td>336</td>\n",
       "      <td>411</td>\n",
       "      <td>373</td>\n",
       "      <td>283</td>\n",
       "      <td>311</td>\n",
       "      <td>370</td>\n",
       "      <td>294</td>\n",
       "      <td>250</td>\n",
       "      <td>298</td>\n",
       "    </tr>\n",
       "  </tbody>\n",
       "</table>\n",
       "<p>3 rows × 86 columns</p>\n",
       "</div>"
      ],
      "text/plain": [
       "   Labels    0    1    2    3    4    5    6    7    8  ...   75   76   77  \\\n",
       "0  person  154  125  169  188  143  156  189  196  143  ...  325  386  407   \n",
       "1  person  163  118  167  187  148  156  187  201  139  ...  304  376  385   \n",
       "2  person  140  134  196  173  125  186  192  170  134  ...  326  336  411   \n",
       "\n",
       "    78   79   80   81   82   83   84  \n",
       "0  364  286  347  353  278  266  313  \n",
       "1  353  265  336  331  270  256  307  \n",
       "2  373  283  311  370  294  250  298  \n",
       "\n",
       "[3 rows x 86 columns]"
      ]
     },
     "execution_count": 92,
     "metadata": {},
     "output_type": "execute_result"
    }
   ],
   "source": [
    "df_person.head(3)"
   ]
  },
  {
   "cell_type": "code",
   "execution_count": 93,
   "id": "0d2d00fc",
   "metadata": {},
   "outputs": [
    {
     "data": {
      "text/plain": [
       "(9999, 86)"
      ]
     },
     "execution_count": 93,
     "metadata": {},
     "output_type": "execute_result"
    }
   ],
   "source": [
    "df_person.shape"
   ]
  },
  {
   "cell_type": "markdown",
   "id": "2929ddd9",
   "metadata": {},
   "source": [
    "### Changing & loading df_empty column names"
   ]
  },
  {
   "cell_type": "code",
   "execution_count": 94,
   "id": "6577ff48",
   "metadata": {},
   "outputs": [
    {
     "data": {
      "text/plain": [
       "Index(['non_person', '97', '0', '94', '1', '82', '12', '79', '31', '80', '32',\n",
       "       '64', '42', '54', '57', '46', '68', '33', '74', '37', '103', '58',\n",
       "       '123', '60', '130', '81', '159', '95', '168', '100', '190', '151',\n",
       "       '230', '115', '169', '218', '339', '354', '493', '283', '313', '208',\n",
       "       '648', '748', '1000', '660', '442', '396', '624', '780', '664', '576',\n",
       "       '329', '483', '77', '35', '772', '834', '995', '434', '178', '359',\n",
       "       '404', '423', '305', '278', '144', '144.1', '213', '202', '153', '119',\n",
       "       '149', '171', '143', '124', '88', '92', '122', '106', '103.1', '82.1',\n",
       "       '75', '67', '94.1', '90'],\n",
       "      dtype='object')"
      ]
     },
     "execution_count": 94,
     "metadata": {},
     "output_type": "execute_result"
    }
   ],
   "source": [
    "df_empty = pd.read_csv(\"EmptyChair_10Ksamples.csv\")\n",
    "\n",
    "\n",
    "df_empty.columns"
   ]
  },
  {
   "cell_type": "code",
   "execution_count": 100,
   "id": "8c820061",
   "metadata": {},
   "outputs": [
    {
     "name": "stdout",
     "output_type": "stream",
     "text": [
      "Labels    7\n",
      "0         0\n",
      "1         0\n",
      "2         0\n",
      "3         0\n",
      "         ..\n",
      "80        0\n",
      "81        0\n",
      "82        0\n",
      "83        0\n",
      "84        0\n",
      "Length: 86, dtype: int64\n"
     ]
    }
   ],
   "source": [
    "person_counts = df_empty.apply(lambda x: x.value_counts().get('person', 0))\n",
    "print(person_counts)\n"
   ]
  },
  {
   "cell_type": "code",
   "execution_count": 96,
   "id": "007cd2e5",
   "metadata": {},
   "outputs": [
    {
     "data": {
      "text/plain": [
       "Index(['Labels', '0', '1', '2', '3', '4', '5', '6', '7', '8', '9', '10', '11',\n",
       "       '12', '13', '14', '15', '16', '17', '18', '19', '20', '21', '22', '23',\n",
       "       '24', '25', '26', '27', '28', '29', '30', '31', '32', '33', '34', '35',\n",
       "       '36', '37', '38', '39', '40', '41', '42', '43', '44', '45', '46', '47',\n",
       "       '48', '49', '50', '51', '52', '53', '54', '55', '56', '57', '58', '59',\n",
       "       '60', '61', '62', '63', '64', '65', '66', '67', '68', '69', '70', '71',\n",
       "       '72', '73', '74', '75', '76', '77', '78', '79', '80', '81', '82', '83',\n",
       "       '84'],\n",
       "      dtype='object')"
      ]
     },
     "execution_count": 96,
     "metadata": {},
     "output_type": "execute_result"
    }
   ],
   "source": [
    "# Specify the column names for df_person\n",
    "column_names_empty = ['Labels'] + [str(i) for i in range(df_empty.shape[1] - 1)]\n",
    "df_empty.columns = column_names_empty\n",
    "df_empty.columns"
   ]
  },
  {
   "cell_type": "code",
   "execution_count": 97,
   "id": "5dc9ccd4",
   "metadata": {},
   "outputs": [
    {
     "data": {
      "text/html": [
       "<div>\n",
       "<style scoped>\n",
       "    .dataframe tbody tr th:only-of-type {\n",
       "        vertical-align: middle;\n",
       "    }\n",
       "\n",
       "    .dataframe tbody tr th {\n",
       "        vertical-align: top;\n",
       "    }\n",
       "\n",
       "    .dataframe thead th {\n",
       "        text-align: right;\n",
       "    }\n",
       "</style>\n",
       "<table border=\"1\" class=\"dataframe\">\n",
       "  <thead>\n",
       "    <tr style=\"text-align: right;\">\n",
       "      <th></th>\n",
       "      <th>Labels</th>\n",
       "      <th>0</th>\n",
       "      <th>1</th>\n",
       "      <th>2</th>\n",
       "      <th>3</th>\n",
       "      <th>4</th>\n",
       "      <th>5</th>\n",
       "      <th>6</th>\n",
       "      <th>7</th>\n",
       "      <th>8</th>\n",
       "      <th>...</th>\n",
       "      <th>75</th>\n",
       "      <th>76</th>\n",
       "      <th>77</th>\n",
       "      <th>78</th>\n",
       "      <th>79</th>\n",
       "      <th>80</th>\n",
       "      <th>81</th>\n",
       "      <th>82</th>\n",
       "      <th>83</th>\n",
       "      <th>84</th>\n",
       "    </tr>\n",
       "  </thead>\n",
       "  <tbody>\n",
       "    <tr>\n",
       "      <th>0</th>\n",
       "      <td>non_person</td>\n",
       "      <td>13</td>\n",
       "      <td>97</td>\n",
       "      <td>6</td>\n",
       "      <td>92</td>\n",
       "      <td>4</td>\n",
       "      <td>84</td>\n",
       "      <td>12</td>\n",
       "      <td>79</td>\n",
       "      <td>32</td>\n",
       "      <td>...</td>\n",
       "      <td>56</td>\n",
       "      <td>118</td>\n",
       "      <td>91</td>\n",
       "      <td>112</td>\n",
       "      <td>66</td>\n",
       "      <td>77</td>\n",
       "      <td>65</td>\n",
       "      <td>89</td>\n",
       "      <td>91</td>\n",
       "      <td>98</td>\n",
       "    </tr>\n",
       "    <tr>\n",
       "      <th>1</th>\n",
       "      <td>non_person</td>\n",
       "      <td>85</td>\n",
       "      <td>20</td>\n",
       "      <td>86</td>\n",
       "      <td>18</td>\n",
       "      <td>79</td>\n",
       "      <td>6</td>\n",
       "      <td>78</td>\n",
       "      <td>19</td>\n",
       "      <td>80</td>\n",
       "      <td>...</td>\n",
       "      <td>107</td>\n",
       "      <td>61</td>\n",
       "      <td>136</td>\n",
       "      <td>79</td>\n",
       "      <td>114</td>\n",
       "      <td>59</td>\n",
       "      <td>87</td>\n",
       "      <td>65</td>\n",
       "      <td>96</td>\n",
       "      <td>85</td>\n",
       "    </tr>\n",
       "    <tr>\n",
       "      <th>2</th>\n",
       "      <td>non_person</td>\n",
       "      <td>59</td>\n",
       "      <td>73</td>\n",
       "      <td>61</td>\n",
       "      <td>67</td>\n",
       "      <td>60</td>\n",
       "      <td>52</td>\n",
       "      <td>69</td>\n",
       "      <td>43</td>\n",
       "      <td>74</td>\n",
       "      <td>...</td>\n",
       "      <td>106</td>\n",
       "      <td>58</td>\n",
       "      <td>136</td>\n",
       "      <td>78</td>\n",
       "      <td>117</td>\n",
       "      <td>55</td>\n",
       "      <td>84</td>\n",
       "      <td>60</td>\n",
       "      <td>95</td>\n",
       "      <td>86</td>\n",
       "    </tr>\n",
       "  </tbody>\n",
       "</table>\n",
       "<p>3 rows × 86 columns</p>\n",
       "</div>"
      ],
      "text/plain": [
       "       Labels   0   1   2   3   4   5   6   7   8  ...   75   76   77   78  \\\n",
       "0  non_person  13  97   6  92   4  84  12  79  32  ...   56  118   91  112   \n",
       "1  non_person  85  20  86  18  79   6  78  19  80  ...  107   61  136   79   \n",
       "2  non_person  59  73  61  67  60  52  69  43  74  ...  106   58  136   78   \n",
       "\n",
       "    79  80  81  82  83  84  \n",
       "0   66  77  65  89  91  98  \n",
       "1  114  59  87  65  96  85  \n",
       "2  117  55  84  60  95  86  \n",
       "\n",
       "[3 rows x 86 columns]"
      ]
     },
     "execution_count": 97,
     "metadata": {},
     "output_type": "execute_result"
    }
   ],
   "source": [
    "df_empty.head(3)"
   ]
  },
  {
   "cell_type": "code",
   "execution_count": 98,
   "id": "021178bd",
   "metadata": {},
   "outputs": [
    {
     "data": {
      "text/plain": [
       "(9999, 86)"
      ]
     },
     "execution_count": 98,
     "metadata": {},
     "output_type": "execute_result"
    }
   ],
   "source": [
    "df_empty.shape"
   ]
  },
  {
   "cell_type": "markdown",
   "id": "f2a2e71b",
   "metadata": {},
   "source": []
  },
  {
   "cell_type": "code",
   "execution_count": 112,
   "id": "f049fa13",
   "metadata": {
    "scrolled": true
   },
   "outputs": [
    {
     "data": {
      "text/plain": [
       "(19998, 85)"
      ]
     },
     "execution_count": 112,
     "metadata": {},
     "output_type": "execute_result"
    }
   ],
   "source": [
    "from sklearn.metrics import accuracy_score, precision_score, recall_score, f1_score, confusion_matrix\n",
    "\n",
    "# Step 3: Prepare the training data\n",
    "X_train = pd.concat([df_person.iloc[:, 1:], df_empty.iloc[:, 1:]], ignore_index=True)\n",
    "y_train = pd.concat([df_person['Labels'], df_empty['Labels']], ignore_index=True)\n",
    "\n",
    "\n",
    "X_train.shape\n"
   ]
  },
  {
   "cell_type": "markdown",
   "id": "fefaf19e",
   "metadata": {},
   "source": [
    "## Saving the concatenated file"
   ]
  },
  {
   "cell_type": "code",
   "execution_count": 114,
   "id": "6aef99ce",
   "metadata": {},
   "outputs": [
    {
     "data": {
      "text/plain": [
       "(19998, 86)"
      ]
     },
     "execution_count": 114,
     "metadata": {},
     "output_type": "execute_result"
    }
   ],
   "source": [
    "concatenated_data = pd.concat([df_person.iloc[:, 1:], df_empty.iloc[:, 1:]], ignore_index=True)\n",
    "concatenated_data['Labels'] = pd.concat([df_person['Labels'], df_empty['Labels']], ignore_index=True)\n",
    "\n",
    "#concatenated_data.to_csv('concatenated_data.csv', index=False)\n",
    "concatenated_data.shape"
   ]
  },
  {
   "cell_type": "code",
   "execution_count": 115,
   "id": "0ad76606",
   "metadata": {
    "scrolled": true
   },
   "outputs": [
    {
     "name": "stdout",
     "output_type": "stream",
     "text": [
      "non_person    10003\n",
      "person         9995\n",
      "Name: Labels, dtype: int64\n"
     ]
    }
   ],
   "source": [
    "counts = concatenated_data['Labels'].value_counts()\n",
    "print(counts)\n"
   ]
  },
  {
   "cell_type": "code",
   "execution_count": 111,
   "id": "a44bfb76",
   "metadata": {},
   "outputs": [],
   "source": [
    "## Now Training the SVM model"
   ]
  },
  {
   "cell_type": "code",
   "execution_count": 109,
   "id": "84077129",
   "metadata": {},
   "outputs": [
    {
     "name": "stdout",
     "output_type": "stream",
     "text": [
      "Accuracy: 0.9887488748874887\n",
      "Precision: 0.9792034530115754\n",
      "Recall: 0.9986993496748374\n",
      "F1 Score: 0.988855317251969\n"
     ]
    },
    {
     "name": "stderr",
     "output_type": "stream",
     "text": [
      "C:\\Users\\yousuf\\anaconda3\\lib\\site-packages\\sklearn\\utils\\deprecation.py:87: FutureWarning: Function plot_confusion_matrix is deprecated; Function `plot_confusion_matrix` is deprecated in 1.0 and will be removed in 1.2. Use one of the class methods: ConfusionMatrixDisplay.from_predictions or ConfusionMatrixDisplay.from_estimator.\n",
      "  warnings.warn(msg, category=FutureWarning)\n"
     ]
    },
    {
     "data": {
      "image/png": "[encoded data removed]",
      "text/plain": [
       "<Figure size 432x288 with 2 Axes>"
      ]
     },
     "metadata": {
      "needs_background": "light"
     },
     "output_type": "display_data"
    }
   ],
   "source": [
    "# Step 4: Train the SVM model\n",
    "svm_model = SVC()\n",
    "svm_model.fit(X_train, y_train)\n",
    "\n",
    "# Step 5: Make label predictions\n",
    "y_pred = svm_model.predict(X_train)\n",
    "\n",
    "# Calculate evaluation metrics\n",
    "accuracy = accuracy_score(y_train, y_pred)\n",
    "precision = precision_score(y_train, y_pred, pos_label='person')\n",
    "recall = recall_score(y_train, y_pred, pos_label='person')\n",
    "f1 = f1_score(y_train, y_pred, pos_label='person')\n",
    "\n",
    "confusion_mat = confusion_matrix(y_train, y_pred)\n",
    "\n",
    "# Print the evaluation metrics and confusion matrix\n",
    "print(\"Accuracy:\", accuracy)\n",
    "print(\"Precision:\", precision)\n",
    "print(\"Recall:\", recall)\n",
    "print(\"F1 Score:\", f1)\n",
    "\n",
    "# Step 6: Plot the confusion matrix\n",
    "cm = confusion_matrix(y_train, y_pred)\n",
    "disp = plot_confusion_matrix(svm_model, X_train, y_train, cmap=plt.cm.Blues)\n",
    "disp.ax_.set_title(\"Confusion Matrix\")\n",
    "plt.show()\n",
    "\n"
   ]
  },
  {
   "cell_type": "code",
   "execution_count": 117,
   "id": "2b58ed05",
   "metadata": {},
   "outputs": [
    {
     "data": {
      "text/html": [
       "<div>\n",
       "<style scoped>\n",
       "    .dataframe tbody tr th:only-of-type {\n",
       "        vertical-align: middle;\n",
       "    }\n",
       "\n",
       "    .dataframe tbody tr th {\n",
       "        vertical-align: top;\n",
       "    }\n",
       "\n",
       "    .dataframe thead th {\n",
       "        text-align: right;\n",
       "    }\n",
       "</style>\n",
       "<table border=\"1\" class=\"dataframe\">\n",
       "  <thead>\n",
       "    <tr style=\"text-align: right;\">\n",
       "      <th></th>\n",
       "      <th>Labels</th>\n",
       "      <th>0</th>\n",
       "      <th>1</th>\n",
       "      <th>2</th>\n",
       "      <th>3</th>\n",
       "      <th>4</th>\n",
       "      <th>5</th>\n",
       "      <th>6</th>\n",
       "      <th>7</th>\n",
       "      <th>8</th>\n",
       "      <th>...</th>\n",
       "      <th>75</th>\n",
       "      <th>76</th>\n",
       "      <th>77</th>\n",
       "      <th>78</th>\n",
       "      <th>79</th>\n",
       "      <th>80</th>\n",
       "      <th>81</th>\n",
       "      <th>82</th>\n",
       "      <th>83</th>\n",
       "      <th>84</th>\n",
       "    </tr>\n",
       "  </thead>\n",
       "  <tbody>\n",
       "    <tr>\n",
       "      <th>0</th>\n",
       "      <td>person</td>\n",
       "      <td>154</td>\n",
       "      <td>125</td>\n",
       "      <td>169</td>\n",
       "      <td>188</td>\n",
       "      <td>143</td>\n",
       "      <td>156</td>\n",
       "      <td>189</td>\n",
       "      <td>196</td>\n",
       "      <td>143</td>\n",
       "      <td>...</td>\n",
       "      <td>325</td>\n",
       "      <td>386</td>\n",
       "      <td>407</td>\n",
       "      <td>364</td>\n",
       "      <td>286</td>\n",
       "      <td>347</td>\n",
       "      <td>353</td>\n",
       "      <td>278</td>\n",
       "      <td>266</td>\n",
       "      <td>313</td>\n",
       "    </tr>\n",
       "    <tr>\n",
       "      <th>1</th>\n",
       "      <td>person</td>\n",
       "      <td>163</td>\n",
       "      <td>118</td>\n",
       "      <td>167</td>\n",
       "      <td>187</td>\n",
       "      <td>148</td>\n",
       "      <td>156</td>\n",
       "      <td>187</td>\n",
       "      <td>201</td>\n",
       "      <td>139</td>\n",
       "      <td>...</td>\n",
       "      <td>304</td>\n",
       "      <td>376</td>\n",
       "      <td>385</td>\n",
       "      <td>353</td>\n",
       "      <td>265</td>\n",
       "      <td>336</td>\n",
       "      <td>331</td>\n",
       "      <td>270</td>\n",
       "      <td>256</td>\n",
       "      <td>307</td>\n",
       "    </tr>\n",
       "    <tr>\n",
       "      <th>2</th>\n",
       "      <td>person</td>\n",
       "      <td>140</td>\n",
       "      <td>134</td>\n",
       "      <td>196</td>\n",
       "      <td>173</td>\n",
       "      <td>125</td>\n",
       "      <td>186</td>\n",
       "      <td>192</td>\n",
       "      <td>170</td>\n",
       "      <td>134</td>\n",
       "      <td>...</td>\n",
       "      <td>326</td>\n",
       "      <td>336</td>\n",
       "      <td>411</td>\n",
       "      <td>373</td>\n",
       "      <td>283</td>\n",
       "      <td>311</td>\n",
       "      <td>370</td>\n",
       "      <td>294</td>\n",
       "      <td>250</td>\n",
       "      <td>298</td>\n",
       "    </tr>\n",
       "  </tbody>\n",
       "</table>\n",
       "<p>3 rows × 86 columns</p>\n",
       "</div>"
      ],
      "text/plain": [
       "   Labels    0    1    2    3    4    5    6    7    8  ...   75   76   77  \\\n",
       "0  person  154  125  169  188  143  156  189  196  143  ...  325  386  407   \n",
       "1  person  163  118  167  187  148  156  187  201  139  ...  304  376  385   \n",
       "2  person  140  134  196  173  125  186  192  170  134  ...  326  336  411   \n",
       "\n",
       "    78   79   80   81   82   83   84  \n",
       "0  364  286  347  353  278  266  313  \n",
       "1  353  265  336  331  270  256  307  \n",
       "2  373  283  311  370  294  250  298  \n",
       "\n",
       "[3 rows x 86 columns]"
      ]
     },
     "execution_count": 117,
     "metadata": {},
     "output_type": "execute_result"
    }
   ],
   "source": [
    "df_person.head(3)"
   ]
  },
  {
   "cell_type": "code",
   "execution_count": 124,
   "id": "fff5c17a",
   "metadata": {
    "scrolled": false
   },
   "outputs": [
    {
     "name": "stderr",
     "output_type": "stream",
     "text": [
      "C:\\Users\\yousuf\\anaconda3\\lib\\site-packages\\sklearn\\linear_model\\_logistic.py:814: ConvergenceWarning: lbfgs failed to converge (status=1):\n",
      "STOP: TOTAL NO. of ITERATIONS REACHED LIMIT.\n",
      "\n",
      "Increase the number of iterations (max_iter) or scale the data as shown in:\n",
      "    https://scikit-learn.org/stable/modules/preprocessing.html\n",
      "Please also refer to the documentation for alternative solver options:\n",
      "    https://scikit-learn.org/stable/modules/linear_model.html#logistic-regression\n",
      "  n_iter_i = _check_optimize_result(\n"
     ]
    },
    {
     "name": "stdout",
     "output_type": "stream",
     "text": [
      "Person Dataset:\n",
      "Accuracy: 0.9521952195219522\n",
      "Precision: 0.998845992446496\n",
      "Recall: 0.9532438926712055\n",
      "F1 Score: 0.9755122950819672\n",
      "\n",
      "Empty Dataset:\n",
      "Accuracy: 0.965096509650965\n",
      "Precision: 0.9994820263130633\n",
      "Recall: 0.9655724579663731\n",
      "F1 Score: 0.982234665309239\n",
      "\n"
     ]
    },
    {
     "data": {
      "image/png": "[encoded data removed]",
      "text/plain": [
       "<Figure size 720x288 with 2 Axes>"
      ]
     },
     "metadata": {
      "needs_background": "light"
     },
     "output_type": "display_data"
    }
   ],
   "source": [
    "import matplotlib.pyplot as plt\n",
    "import seaborn as sns\n",
    "from sklearn.linear_model import LogisticRegression\n",
    "from sklearn.metrics import confusion_matrix, accuracy_score, precision_score, recall_score, f1_score\n",
    "\n",
    "\n",
    "X_train = pd.concat([df_person.iloc[:, 1:], df_empty.iloc[:, 1:]], ignore_index=True)\n",
    "y_train = pd.concat([df_person['Labels'], df_empty['Labels']], ignore_index=True)\n",
    "\n",
    "# Step 2: Create and train the Logistic Regression model\n",
    "lr_model = LogisticRegression()\n",
    "lr_model.fit(X_train, y_train)\n",
    "\n",
    "# Step 3: Prepare the test data\n",
    "X_person_test = df_person.iloc[:, 1:]  # Features for person dataset\n",
    "X_empty_test = df_empty.iloc[:, 1:]    # Features for empty dataset\n",
    "\n",
    "# Step 4: Make predictions\n",
    "y_person_pred = lr_model.predict(X_person_test)\n",
    "y_empty_pred = lr_model.predict(X_empty_test)\n",
    "\n",
    "# Step 5: Evaluate the model\n",
    "person_accuracy = accuracy_score(df_person['Labels'], y_person_pred)\n",
    "person_precision = precision_score(df_person['Labels'], y_person_pred, pos_label='person')\n",
    "person_recall = recall_score(df_person['Labels'], y_person_pred, pos_label='person')\n",
    "person_f1 = f1_score(df_person['Labels'], y_person_pred, pos_label='person')\n",
    "\n",
    "empty_accuracy = accuracy_score(df_empty['Labels'], y_empty_pred)\n",
    "empty_precision = precision_score(df_empty['Labels'], y_empty_pred, pos_label='non_person')\n",
    "empty_recall = recall_score(df_empty['Labels'], y_empty_pred, pos_label='non_person')\n",
    "empty_f1 = f1_score(df_empty['Labels'], y_empty_pred, pos_label='non_person')\n",
    "\n",
    "# Step 6: Print the evaluation metrics\n",
    "print(\"Person Dataset:\")\n",
    "print(\"Accuracy:\", person_accuracy)\n",
    "print(\"Precision:\", person_precision)\n",
    "print(\"Recall:\", person_recall)\n",
    "print(\"F1 Score:\", person_f1)\n",
    "print()\n",
    "\n",
    "print(\"Empty Dataset:\")\n",
    "print(\"Accuracy:\", empty_accuracy)\n",
    "print(\"Precision:\", empty_precision)\n",
    "print(\"Recall:\", empty_recall)\n",
    "print(\"F1 Score:\", empty_f1)\n",
    "print()\n",
    "\n",
    "# Step 7: Create the confusion matrix\n",
    "cm_person = confusion_matrix(df_person['Labels'], y_person_pred, labels=['person', 'non_person'])\n",
    "cm_empty = confusion_matrix(df_empty['Labels'], y_empty_pred, labels=['person', 'non_person'])\n",
    "\n",
    "# Step 8: Plot the confusion matrix\n",
    "plt.figure(figsize=(10, 4))\n",
    "\n",
    "plt.subplot(1, 2, 1)\n",
    "sns.heatmap(cm_person, annot=True, fmt='d', cmap='Blues', cbar=False,\n",
    "            xticklabels=['person', 'non_person'], yticklabels=['person', 'non_person'])\n",
    "plt.xlabel('Predicted')\n",
    "plt.ylabel('True')\n",
    "plt.title('Confusion Matrix - Person Dataset')\n",
    "\n",
    "plt.subplot(1, 2, 2)\n",
    "sns.heatmap(cm_empty, annot=True, fmt='d', cmap='Blues', cbar=False,\n",
    "            xticklabels=['person', 'non_person'], yticklabels=['person', 'non_person'])\n",
    "plt.xlabel('Predicted')\n",
    "plt.ylabel('True')\n",
    "plt.title('Confusion Matrix - Empty Dataset')\n",
    "\n",
    "plt.tight_layout()\n",
    "plt.show()\n"
   ]
  },
  {
   "cell_type": "code",
   "execution_count": 123,
   "id": "6f57d879",
   "metadata": {},
   "outputs": [
    {
     "data": {
      "image/png": "[encoded data removed]",
      "text/plain": [
       "<Figure size 432x288 with 1 Axes>"
      ]
     },
     "metadata": {
      "needs_background": "light"
     },
     "output_type": "display_data"
    }
   ],
   "source": [
    "import matplotlib.pyplot as plt\n",
    "import seaborn as sns\n",
    "from sklearn.metrics import confusion_matrix\n",
    "\n",
    "# Step 7: Calculate the confusion matrix\n",
    "cm = confusion_matrix(y_train, y_pred, labels=['person', 'non_person'])\n",
    "\n",
    "# Step 8: Display the confusion matrix\n",
    "plt.figure(figsize=(6, 4))\n",
    "sns.heatmap(cm, annot=True, fmt='d', cmap='Blues', cbar=False,\n",
    "            xticklabels=['person', 'non_person'], yticklabels=['person', 'non_person'])\n",
    "plt.xlabel('Predicted')\n",
    "plt.ylabel('True')\n",
    "plt.title('Confusion Matrix')\n",
    "plt.show()\n"
   ]
  },
  {
   "cell_type": "code",
   "execution_count": null,
   "id": "7b84dbf9",
   "metadata": {},
   "outputs": [],
   "source": []
  }
 ],
 "metadata": {
  "kernelspec": {
   "display_name": "Python 3 (ipykernel)",
   "language": "python",
   "name": "python3"
  },
  "language_info": {
   "codemirror_mode": {
    "name": "ipython",
    "version": 3
   },
   "file_extension": ".py",
   "mimetype": "text/x-python",
   "name": "python",
   "nbconvert_exporter": "python",
   "pygments_lexer": "ipython3",
   "version": "3.11.3"
  }
 },
 "nbformat": 4,
 "nbformat_minor": 5
}
