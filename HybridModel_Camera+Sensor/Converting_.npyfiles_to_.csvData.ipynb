{
 "cells": [
  {
   "cell_type": "code",
   "execution_count": 8,
   "id": "a84b5b77",
   "metadata": {},
   "outputs": [
    {
     "name": "stdout",
     "output_type": "stream",
     "text": [
      "21.9592866897583\n",
      "55.73212790489197\n",
      "74.38191652297974\n",
      "55.7223334312439\n",
      "15.983967781066895\n",
      "23.72145652770996\n",
      "80.07549715042114\n",
      "90.9430501461029\n",
      "40.18657040596008\n",
      "110.29175329208374\n",
      "13.12543272972107\n",
      "11.665015935897827\n",
      "23.963396787643433\n",
      "619.2283341884613\n"
     ]
    }
   ],
   "source": [
    "import pandas as pd\n",
    "import os, glob\n",
    "import time\n",
    "import numpy as np\n",
    "import struct\n",
    "\n",
    "begining_start_time = time.time()\n",
    "\n",
    "folder_locations = [r\"C:\\Users\\yousuf\\source\\repos\\individual_project_data_label\\Program\\python\\person-detection\\IndividualProject_Bisal_Datasets\\Dataset\\PersonSitting\\experiments01\",\n",
    "                    r\"C:\\Users\\yousuf\\source\\repos\\individual_project_data_label\\Program\\python\\person-detection\\IndividualProject_Bisal_Datasets\\Dataset\\PersonSitting\\experiments02\",\n",
    "                    r\"C:\\Users\\yousuf\\source\\repos\\individual_project_data_label\\Program\\python\\person-detection\\IndividualProject_Bisal_Datasets\\Dataset\\PersonSitting\\experiments03\",\n",
    "                    r\"C:\\Users\\yousuf\\source\\repos\\individual_project_data_label\\Program\\python\\person-detection\\IndividualProject_Bisal_Datasets\\Dataset\\PersonSitting\\experiments06\",\n",
    "                    r\"C:\\Users\\yousuf\\source\\repos\\individual_project_data_label\\Program\\python\\person-detection\\IndividualProject_Bisal_Datasets\\Dataset\\PersonSitting\\experiments07\",\n",
    "                    r\"C:\\Users\\yousuf\\source\\repos\\individual_project_data_label\\Program\\python\\person-detection\\IndividualProject_Bisal_Datasets\\Dataset\\PersonSitting\\experiments08\",\n",
    "                    r\"C:\\Users\\yousuf\\source\\repos\\individual_project_data_label\\Program\\python\\person-detection\\IndividualProject_Bisal_Datasets\\Dataset\\PersonSitting\\experiments12\",\n",
    "                    r\"C:\\Users\\yousuf\\source\\repos\\individual_project_data_label\\Program\\python\\person-detection\\IndividualProject_Bisal_Datasets\\Dataset\\PersonSitting\\experiments13\",\n",
    "                    r\"C:\\Users\\yousuf\\source\\repos\\individual_project_data_label\\Program\\python\\person-detection\\IndividualProject_Bisal_Datasets\\Dataset\\PersonSitting\\experiments14\",\n",
    "                    r\"C:\\Users\\yousuf\\source\\repos\\individual_project_data_label\\Program\\python\\person-detection\\IndividualProject_Bisal_Datasets\\Dataset\\PersonSitting\\experiments15\",\n",
    "                    r\"C:\\Users\\yousuf\\source\\repos\\individual_project_data_label\\Program\\python\\person-detection\\IndividualProject_Bisal_Datasets\\Dataset\\PersonSitting\\experiments16\",\n",
    "                    r\"C:\\Users\\yousuf\\source\\repos\\individual_project_data_label\\Program\\python\\person-detection\\IndividualProject_Bisal_Datasets\\Dataset\\PersonSitting\\experiments17\",\n",
    "                    r\"C:\\Users\\yousuf\\source\\repos\\individual_project_data_label\\Program\\python\\person-detection\\IndividualProject_Bisal_Datasets\\Dataset\\PersonSitting\\experiments18\"]\n",
    "\n",
    "\n",
    "\n",
    "final_dataframe = pd.DataFrame()\n",
    "\n",
    "for folder in folder_locations:\n",
    "    start_time = time.time()\n",
    "    path = os.path.join(folder, \"binaries\")\n",
    "\n",
    "    intermediate_df = pd.DataFrame()\n",
    "\n",
    "    for filename in glob.glob(os.path.join(path, '*.npy')):\n",
    "        with open(filename, 'rb') as f:\n",
    "            data = np.load(f)\n",
    "            data_bytes = data.tobytes()\n",
    "\n",
    "            ultrasonic_data = []\n",
    "            for i in struct.iter_unpack('@h', data_bytes[64:]):\n",
    "                ultrasonic_data.append(i[0])\n",
    "\n",
    "            tmp_df = pd.DataFrame([ultrasonic_data])\n",
    "            label_output = os.path.splitext(os.path.basename(filename))[0].split(\"_\")[2]\n",
    "\n",
    "            if label_output.lower() == \"p\":\n",
    "                label_output = \"1\"\n",
    "            else:\n",
    "                label_output = \"0\"\n",
    "\n",
    "            tmp_df.insert(0, \"label\", [label_output,])\n",
    "\n",
    "            intermediate_df = pd.concat([intermediate_df, tmp_df])\n",
    "\n",
    "    final_dataframe = pd.concat([final_dataframe, intermediate_df])\n",
    "    print(time.time() - start_time)\n",
    "\n",
    "final_dataframe.to_csv(\"Person.csv\", index=False, header=None, sep=',')\n",
    "\n",
    "print(time.time() - begining_start_time)\n"
   ]
  },
  {
   "cell_type": "code",
   "execution_count": 9,
   "id": "428b88de",
   "metadata": {
    "scrolled": true
   },
   "outputs": [
    {
     "data": {
      "text/plain": [
       "(41901, 86)"
      ]
     },
     "execution_count": 9,
     "metadata": {},
     "output_type": "execute_result"
    }
   ],
   "source": [
    "data = pd.read_csv(\"Person.csv\", header=None)\n",
    "data.shape\n"
   ]
  },
  {
   "cell_type": "code",
   "execution_count": null,
   "id": "ad722e72",
   "metadata": {},
   "outputs": [],
   "source": [
    "import pandas as pd\n",
    "import os\n",
    "import numpy as np\n",
    "import struct\n",
    "\n",
    "folder_path = r\"C:\\Users\\yousuf\\source\\repos\\individual_project_data_label\\Program\\python\\person-detection\\experiments\"\n",
    "binaries_path = os.path.join(folder_path, \"binaries\")\n",
    "\n",
    "output_data = []\n",
    "\n",
    "for filename in os.listdir(binaries_path):\n",
    "    if filename.endswith(\".npy\"):\n",
    "        file_path = os.path.join(binaries_path, filename)\n",
    "        label = os.path.splitext(filename)[0].split(\"_\")[2]\n",
    "\n",
    "        if label.lower() == \"p\":\n",
    "            label = \"person\"\n",
    "        else:\n",
    "            label = \"non_person\"\n",
    "\n",
    "        data = np.load(file_path)\n",
    "        ultrasonic_data = struct.unpack(f'{len(data)//2}h', data[64:])\n",
    "\n",
    "        row = [label] + list(ultrasonic_data)\n",
    "        output_data.append(row)\n",
    "\n",
    "output_columns = [\"label\"] + [f\"ultrasonic_{i}\" for i in range(len(output_data[0]) - 1)]\n",
    "output_df = pd.DataFrame(output_data, columns=output_columns)\n",
    "\n",
    "output_csv_path = os.path.join(folder_path, \"PersonMeasurements.csv\")\n",
    "output_df.to_csv(output_csv_path, index=False)\n"
   ]
  }
 ],
 "metadata": {
  "kernelspec": {
   "display_name": "Python 3 (ipykernel)",
   "language": "python",
   "name": "python3"
  },
  "language_info": {
   "codemirror_mode": {
    "name": "ipython",
    "version": 3
   },
   "file_extension": ".py",
   "mimetype": "text/x-python",
   "name": "python",
   "nbconvert_exporter": "python",
   "pygments_lexer": "ipython3",
   "version": "3.11.3"
  }
 },
 "nbformat": 4,
 "nbformat_minor": 5
}
